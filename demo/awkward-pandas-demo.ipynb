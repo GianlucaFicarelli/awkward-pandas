{
 "cells": [
  {
   "cell_type": "code",
   "execution_count": 1,
   "id": "ae952d51",
   "metadata": {},
   "outputs": [],
   "source": [
    "import awkward_pandas\n",
    "import pandas as pd\n",
    "import awkward._v2 as ak\n",
    "from dask_awkward.io.scratch import from_parquet"
   ]
  },
  {
   "cell_type": "code",
   "execution_count": 2,
   "id": "c69c1b7f",
   "metadata": {},
   "outputs": [],
   "source": [
    "ds = from_parquet(\"s3://ddavistemp/higgs_pq/*.parquet\", storage_options={\"anon\": True}).compute()"
   ]
  },
  {
   "cell_type": "code",
   "execution_count": 3,
   "id": "4efc7d8a-5f64-4354-ab45-d2cc26e9d974",
   "metadata": {},
   "outputs": [
    {
     "name": "stdout",
     "output_type": "stream",
     "text": [
      "[{run: 1, luminosityBlock: 13, event: 1201, MET: {pt: 19.5, phi: 3.1}, muons: [], gen: [{pt: 60.4, ...}, ...]},\n",
      " {run: 1, luminosityBlock: 13, event: 1202, MET: {pt: 20.4, phi: -2.18}, muons: [{pt: 18.6, ...}, ...], gen: [{...}, ...]},\n",
      " {run: 1, luminosityBlock: 13, event: 1203, MET: {pt: 28.8, phi: 2.62}, muons: [], gen: [{pt: 40.6, ...}]},\n",
      " {run: 1, luminosityBlock: 13, event: 1204, MET: {pt: 4.42, phi: -0.206}, muons: [{pt: 26.7, ...}, ...], gen: [{...}, ...]},\n",
      " {run: 1, luminosityBlock: 13, event: 1205, MET: {pt: 5.86, phi: 2.47}, muons: [{pt: 7.62, eta: ..., ...}], gen: [...]},\n",
      " ...,\n",
      " {run: 1, luminosityBlock: 2801, event: 80097, MET: {pt: 17.6, phi: 2.15}, muons: [], gen: [{pt: 24, ...}, ...]},\n",
      " {run: 1, luminosityBlock: 2801, event: 80098, MET: {pt: 15.5, phi: 0.718}, muons: [{pt: 18.6, ...}, ...], gen: [...]},\n",
      " {run: 1, luminosityBlock: 2801, event: 80099, MET: {pt: 16.2, phi: -0.555}, muons: [{pt: 26.1, ...}, ...], gen: [...]},\n",
      " {run: 1, luminosityBlock: 2801, event: 80100, MET: {pt: 18.8, phi: 0.657}, muons: [{pt: 30.4, ...}, ...], gen: [...]}]\n"
     ]
    }
   ],
   "source": [
    "ds.show(limit_rows=10, limit_cols=140)"
   ]
  },
  {
   "cell_type": "code",
   "execution_count": 4,
   "id": "18968885",
   "metadata": {},
   "outputs": [],
   "source": [
    "s = pd.Series(pd.array(ds, dtype=\"awkward\"), name=\"nested\")"
   ]
  },
  {
   "cell_type": "markdown",
   "id": "1489dd6e-de8e-437d-8c41-e6ac1d9a6dd4",
   "metadata": {},
   "source": [
    "![](muons_dataset1.svg)"
   ]
  },
  {
   "cell_type": "code",
   "execution_count": 5,
   "id": "b5e1435b-7eae-4788-aa39-96161bd29294",
   "metadata": {},
   "outputs": [
    {
     "data": {
      "text/plain": [
       "0         ['run' 'luminosityBlock' 'event' 'MET' 'muons'...\n",
       "1         ['run' 'luminosityBlock' 'event' 'MET' 'muons'...\n",
       "2         ['run' 'luminosityBlock' 'event' 'MET' 'muons'...\n",
       "3         ['run' 'luminosityBlock' 'event' 'MET' 'muons'...\n",
       "4         ['run' 'luminosityBlock' 'event' 'MET' 'muons'...\n",
       "                                ...                        \n",
       "299678    ['run' 'luminosityBlock' 'event' 'MET' 'muons'...\n",
       "299679    ['run' 'luminosityBlock' 'event' 'MET' 'muons'...\n",
       "299680    ['run' 'luminosityBlock' 'event' 'MET' 'muons'...\n",
       "299681    ['run' 'luminosityBlock' 'event' 'MET' 'muons'...\n",
       "299682    ['run' 'luminosityBlock' 'event' 'MET' 'muons'...\n",
       "Name: nested, Length: 299683, dtype: awkward"
      ]
     },
     "execution_count": 5,
     "metadata": {},
     "output_type": "execute_result"
    }
   ],
   "source": [
    "s"
   ]
  },
  {
   "cell_type": "markdown",
   "id": "64b5978e-9962-40f7-ae4b-bfd6c733a855",
   "metadata": {},
   "source": [
    "We can \"unroll\" the Series into a DataFrame by extracting columns that are primitive types (e.g. Series of ints or floats). We do this with the awkward accessor (`.ak` on the Series). In the accessor we have a `to_columns` method:"
   ]
  },
  {
   "cell_type": "code",
   "execution_count": 6,
   "id": "30dc3935",
   "metadata": {},
   "outputs": [],
   "source": [
    "df = s.ak.to_columns()"
   ]
  },
  {
   "cell_type": "markdown",
   "id": "c05cac88-eb25-49b2-88db-ee096d2d86d4",
   "metadata": {},
   "source": [
    "![](muons_dataset_df.svg)"
   ]
  },
  {
   "cell_type": "code",
   "execution_count": 7,
   "id": "e2ccc8ec-6892-48c9-b4a1-8e75db0b9e5a",
   "metadata": {},
   "outputs": [
    {
     "data": {
      "text/html": [
       "<div>\n",
       "<style scoped>\n",
       "    .dataframe tbody tr th:only-of-type {\n",
       "        vertical-align: middle;\n",
       "    }\n",
       "\n",
       "    .dataframe tbody tr th {\n",
       "        vertical-align: top;\n",
       "    }\n",
       "\n",
       "    .dataframe thead th {\n",
       "        text-align: right;\n",
       "    }\n",
       "</style>\n",
       "<table border=\"1\" class=\"dataframe\">\n",
       "  <thead>\n",
       "    <tr style=\"text-align: right;\">\n",
       "      <th></th>\n",
       "      <th>run</th>\n",
       "      <th>luminosityBlock</th>\n",
       "      <th>event</th>\n",
       "      <th>nested</th>\n",
       "    </tr>\n",
       "  </thead>\n",
       "  <tbody>\n",
       "    <tr>\n",
       "      <th>0</th>\n",
       "      <td>1</td>\n",
       "      <td>13</td>\n",
       "      <td>1201</td>\n",
       "      <td>['MET' 'muons' 'gen']</td>\n",
       "    </tr>\n",
       "    <tr>\n",
       "      <th>1</th>\n",
       "      <td>1</td>\n",
       "      <td>13</td>\n",
       "      <td>1202</td>\n",
       "      <td>['MET' 'muons' 'gen']</td>\n",
       "    </tr>\n",
       "    <tr>\n",
       "      <th>2</th>\n",
       "      <td>1</td>\n",
       "      <td>13</td>\n",
       "      <td>1203</td>\n",
       "      <td>['MET' 'muons' 'gen']</td>\n",
       "    </tr>\n",
       "    <tr>\n",
       "      <th>3</th>\n",
       "      <td>1</td>\n",
       "      <td>13</td>\n",
       "      <td>1204</td>\n",
       "      <td>['MET' 'muons' 'gen']</td>\n",
       "    </tr>\n",
       "    <tr>\n",
       "      <th>4</th>\n",
       "      <td>1</td>\n",
       "      <td>13</td>\n",
       "      <td>1205</td>\n",
       "      <td>['MET' 'muons' 'gen']</td>\n",
       "    </tr>\n",
       "    <tr>\n",
       "      <th>...</th>\n",
       "      <td>...</td>\n",
       "      <td>...</td>\n",
       "      <td>...</td>\n",
       "      <td>...</td>\n",
       "    </tr>\n",
       "    <tr>\n",
       "      <th>299678</th>\n",
       "      <td>1</td>\n",
       "      <td>2801</td>\n",
       "      <td>80096</td>\n",
       "      <td>['MET' 'muons' 'gen']</td>\n",
       "    </tr>\n",
       "    <tr>\n",
       "      <th>299679</th>\n",
       "      <td>1</td>\n",
       "      <td>2801</td>\n",
       "      <td>80097</td>\n",
       "      <td>['MET' 'muons' 'gen']</td>\n",
       "    </tr>\n",
       "    <tr>\n",
       "      <th>299680</th>\n",
       "      <td>1</td>\n",
       "      <td>2801</td>\n",
       "      <td>80098</td>\n",
       "      <td>['MET' 'muons' 'gen']</td>\n",
       "    </tr>\n",
       "    <tr>\n",
       "      <th>299681</th>\n",
       "      <td>1</td>\n",
       "      <td>2801</td>\n",
       "      <td>80099</td>\n",
       "      <td>['MET' 'muons' 'gen']</td>\n",
       "    </tr>\n",
       "    <tr>\n",
       "      <th>299682</th>\n",
       "      <td>1</td>\n",
       "      <td>2801</td>\n",
       "      <td>80100</td>\n",
       "      <td>['MET' 'muons' 'gen']</td>\n",
       "    </tr>\n",
       "  </tbody>\n",
       "</table>\n",
       "<p>299683 rows × 4 columns</p>\n",
       "</div>"
      ],
      "text/plain": [
       "        run  luminosityBlock  event                 nested\n",
       "0         1               13   1201  ['MET' 'muons' 'gen']\n",
       "1         1               13   1202  ['MET' 'muons' 'gen']\n",
       "2         1               13   1203  ['MET' 'muons' 'gen']\n",
       "3         1               13   1204  ['MET' 'muons' 'gen']\n",
       "4         1               13   1205  ['MET' 'muons' 'gen']\n",
       "...     ...              ...    ...                    ...\n",
       "299678    1             2801  80096  ['MET' 'muons' 'gen']\n",
       "299679    1             2801  80097  ['MET' 'muons' 'gen']\n",
       "299680    1             2801  80098  ['MET' 'muons' 'gen']\n",
       "299681    1             2801  80099  ['MET' 'muons' 'gen']\n",
       "299682    1             2801  80100  ['MET' 'muons' 'gen']\n",
       "\n",
       "[299683 rows x 4 columns]"
      ]
     },
     "execution_count": 7,
     "metadata": {},
     "output_type": "execute_result"
    }
   ],
   "source": [
    "df"
   ]
  },
  {
   "cell_type": "code",
   "execution_count": 8,
   "id": "c72aa55e-838f-49c9-9da1-c3150b1ab28c",
   "metadata": {},
   "outputs": [
    {
     "data": {
      "text/plain": [
       "0           13\n",
       "1           13\n",
       "2           13\n",
       "3           13\n",
       "4           13\n",
       "          ... \n",
       "299678    2801\n",
       "299679    2801\n",
       "299680    2801\n",
       "299681    2801\n",
       "299682    2801\n",
       "Name: luminosityBlock, Length: 299683, dtype: int64"
      ]
     },
     "execution_count": 8,
     "metadata": {},
     "output_type": "execute_result"
    }
   ],
   "source": [
    "df.luminosityBlock"
   ]
  },
  {
   "cell_type": "code",
   "execution_count": 9,
   "id": "2148040b-99de-4c4a-96dc-515c537a4959",
   "metadata": {},
   "outputs": [
    {
     "data": {
      "text/plain": [
       "<Array [{MET: {...}, muons: [], ...}, ...] type='299683 * {MET: {pt: float6...'>"
      ]
     },
     "execution_count": 9,
     "metadata": {},
     "output_type": "execute_result"
    }
   ],
   "source": [
    "df.nested.values._data"
   ]
  },
  {
   "cell_type": "code",
   "execution_count": 10,
   "id": "c541dc8c",
   "metadata": {},
   "outputs": [],
   "source": [
    "muons_series = df.nested.ak[\"muons\"]"
   ]
  },
  {
   "cell_type": "code",
   "execution_count": 11,
   "id": "f6e93950",
   "metadata": {},
   "outputs": [
    {
     "data": {
      "text/plain": [
       "0                                                        []\n",
       "1         [['pt', 'eta', 'phi', 'mass', 'charge'], ['pt'...\n",
       "2                                                        []\n",
       "3         [['pt', 'eta', 'phi', 'mass', 'charge'], ['pt'...\n",
       "4                  [['pt', 'eta', 'phi', 'mass', 'charge']]\n",
       "                                ...                        \n",
       "299678    [['pt', 'eta', 'phi', 'mass', 'charge'], ['pt'...\n",
       "299679                                                   []\n",
       "299680    [['pt', 'eta', 'phi', 'mass', 'charge'], ['pt'...\n",
       "299681    [['pt', 'eta', 'phi', 'mass', 'charge'], ['pt'...\n",
       "299682    [['pt', 'eta', 'phi', 'mass', 'charge'], ['pt'...\n",
       "Length: 299683, dtype: awkward"
      ]
     },
     "execution_count": 11,
     "metadata": {},
     "output_type": "execute_result"
    }
   ],
   "source": [
    "muons_series"
   ]
  },
  {
   "cell_type": "code",
   "execution_count": 12,
   "id": "7dac1797-496a-45ca-89cc-f663025b849f",
   "metadata": {},
   "outputs": [
    {
     "name": "stdout",
     "output_type": "stream",
     "text": [
      "347 ms ± 3.9 ms per loop (mean ± std. dev. of 7 runs, 1 loop each)\n"
     ]
    }
   ],
   "source": [
    "%%timeit\n",
    "[len(x) for x in muons_series.tolist()]"
   ]
  },
  {
   "cell_type": "markdown",
   "id": "04ecbc23-4834-4ebe-bdb5-f2e467c2137d",
   "metadata": {},
   "source": [
    "In awkward-pandas world we have access to functions from the awkward-array API:"
   ]
  },
  {
   "cell_type": "code",
   "execution_count": 13,
   "id": "d890022a-cee1-49e6-b660-b056b1b3193a",
   "metadata": {},
   "outputs": [
    {
     "name": "stdout",
     "output_type": "stream",
     "text": [
      "468 µs ± 2.35 µs per loop (mean ± std. dev. of 7 runs, 1,000 loops each)\n"
     ]
    }
   ],
   "source": [
    "%%timeit\n",
    "muons_series.ak.num(axis=1)"
   ]
  },
  {
   "cell_type": "markdown",
   "id": "9d53798e-de6d-49b4-a536-15043341b4f7",
   "metadata": {},
   "source": [
    "Huge performance improvement with compiled awkward code over Python iteration!"
   ]
  },
  {
   "cell_type": "code",
   "execution_count": 14,
   "id": "4935847b-b227-4251-847b-03071a168374",
   "metadata": {},
   "outputs": [],
   "source": [
    "n_muons = muons_series.ak.num(axis=1)"
   ]
  },
  {
   "cell_type": "markdown",
   "id": "545ee386-4ecb-4c50-970c-6496f26420ba",
   "metadata": {},
   "source": [
    "And we can use the results with other pandas analysis workflows..."
   ]
  },
  {
   "cell_type": "code",
   "execution_count": 15,
   "id": "3c111826-5b67-4487-a3f4-1bbbaa5a5690",
   "metadata": {},
   "outputs": [
    {
     "data": {
      "text/plain": [
       "0         0\n",
       "1         2\n",
       "2         0\n",
       "3         3\n",
       "4         1\n",
       "         ..\n",
       "299678    2\n",
       "299679    0\n",
       "299680    2\n",
       "299681    3\n",
       "299682    4\n",
       "Length: 299683, dtype: awkward"
      ]
     },
     "execution_count": 15,
     "metadata": {},
     "output_type": "execute_result"
    }
   ],
   "source": [
    "n_muons"
   ]
  },
  {
   "cell_type": "code",
   "execution_count": 16,
   "id": "e648f4b8-f776-48b6-8dcc-3a9b73ce255a",
   "metadata": {},
   "outputs": [],
   "source": [
    "df[\"n_muons\"] = n_muons"
   ]
  },
  {
   "cell_type": "code",
   "execution_count": 17,
   "id": "c4d138d0-e2dd-4dab-979c-63e02ac1c267",
   "metadata": {},
   "outputs": [
    {
     "data": {
      "text/html": [
       "<div>\n",
       "<style scoped>\n",
       "    .dataframe tbody tr th:only-of-type {\n",
       "        vertical-align: middle;\n",
       "    }\n",
       "\n",
       "    .dataframe tbody tr th {\n",
       "        vertical-align: top;\n",
       "    }\n",
       "\n",
       "    .dataframe thead th {\n",
       "        text-align: right;\n",
       "    }\n",
       "</style>\n",
       "<table border=\"1\" class=\"dataframe\">\n",
       "  <thead>\n",
       "    <tr style=\"text-align: right;\">\n",
       "      <th></th>\n",
       "      <th>run</th>\n",
       "      <th>luminosityBlock</th>\n",
       "      <th>event</th>\n",
       "      <th>nested</th>\n",
       "      <th>n_muons</th>\n",
       "    </tr>\n",
       "  </thead>\n",
       "  <tbody>\n",
       "    <tr>\n",
       "      <th>0</th>\n",
       "      <td>1</td>\n",
       "      <td>13</td>\n",
       "      <td>1201</td>\n",
       "      <td>['MET' 'muons' 'gen']</td>\n",
       "      <td>0</td>\n",
       "    </tr>\n",
       "    <tr>\n",
       "      <th>1</th>\n",
       "      <td>1</td>\n",
       "      <td>13</td>\n",
       "      <td>1202</td>\n",
       "      <td>['MET' 'muons' 'gen']</td>\n",
       "      <td>2</td>\n",
       "    </tr>\n",
       "    <tr>\n",
       "      <th>2</th>\n",
       "      <td>1</td>\n",
       "      <td>13</td>\n",
       "      <td>1203</td>\n",
       "      <td>['MET' 'muons' 'gen']</td>\n",
       "      <td>0</td>\n",
       "    </tr>\n",
       "    <tr>\n",
       "      <th>3</th>\n",
       "      <td>1</td>\n",
       "      <td>13</td>\n",
       "      <td>1204</td>\n",
       "      <td>['MET' 'muons' 'gen']</td>\n",
       "      <td>3</td>\n",
       "    </tr>\n",
       "    <tr>\n",
       "      <th>4</th>\n",
       "      <td>1</td>\n",
       "      <td>13</td>\n",
       "      <td>1205</td>\n",
       "      <td>['MET' 'muons' 'gen']</td>\n",
       "      <td>1</td>\n",
       "    </tr>\n",
       "    <tr>\n",
       "      <th>...</th>\n",
       "      <td>...</td>\n",
       "      <td>...</td>\n",
       "      <td>...</td>\n",
       "      <td>...</td>\n",
       "      <td>...</td>\n",
       "    </tr>\n",
       "    <tr>\n",
       "      <th>299678</th>\n",
       "      <td>1</td>\n",
       "      <td>2801</td>\n",
       "      <td>80096</td>\n",
       "      <td>['MET' 'muons' 'gen']</td>\n",
       "      <td>2</td>\n",
       "    </tr>\n",
       "    <tr>\n",
       "      <th>299679</th>\n",
       "      <td>1</td>\n",
       "      <td>2801</td>\n",
       "      <td>80097</td>\n",
       "      <td>['MET' 'muons' 'gen']</td>\n",
       "      <td>0</td>\n",
       "    </tr>\n",
       "    <tr>\n",
       "      <th>299680</th>\n",
       "      <td>1</td>\n",
       "      <td>2801</td>\n",
       "      <td>80098</td>\n",
       "      <td>['MET' 'muons' 'gen']</td>\n",
       "      <td>2</td>\n",
       "    </tr>\n",
       "    <tr>\n",
       "      <th>299681</th>\n",
       "      <td>1</td>\n",
       "      <td>2801</td>\n",
       "      <td>80099</td>\n",
       "      <td>['MET' 'muons' 'gen']</td>\n",
       "      <td>3</td>\n",
       "    </tr>\n",
       "    <tr>\n",
       "      <th>299682</th>\n",
       "      <td>1</td>\n",
       "      <td>2801</td>\n",
       "      <td>80100</td>\n",
       "      <td>['MET' 'muons' 'gen']</td>\n",
       "      <td>4</td>\n",
       "    </tr>\n",
       "  </tbody>\n",
       "</table>\n",
       "<p>299683 rows × 5 columns</p>\n",
       "</div>"
      ],
      "text/plain": [
       "        run  luminosityBlock  event                 nested n_muons\n",
       "0         1               13   1201  ['MET' 'muons' 'gen']       0\n",
       "1         1               13   1202  ['MET' 'muons' 'gen']       2\n",
       "2         1               13   1203  ['MET' 'muons' 'gen']       0\n",
       "3         1               13   1204  ['MET' 'muons' 'gen']       3\n",
       "4         1               13   1205  ['MET' 'muons' 'gen']       1\n",
       "...     ...              ...    ...                    ...     ...\n",
       "299678    1             2801  80096  ['MET' 'muons' 'gen']       2\n",
       "299679    1             2801  80097  ['MET' 'muons' 'gen']       0\n",
       "299680    1             2801  80098  ['MET' 'muons' 'gen']       2\n",
       "299681    1             2801  80099  ['MET' 'muons' 'gen']       3\n",
       "299682    1             2801  80100  ['MET' 'muons' 'gen']       4\n",
       "\n",
       "[299683 rows x 5 columns]"
      ]
     },
     "execution_count": 17,
     "metadata": {},
     "output_type": "execute_result"
    }
   ],
   "source": [
    "df"
   ]
  },
  {
   "cell_type": "code",
   "execution_count": 18,
   "id": "7c23b25c-448f-406b-ad96-c1a3d95ac16e",
   "metadata": {},
   "outputs": [
    {
     "data": {
      "text/html": [
       "<div>\n",
       "<style scoped>\n",
       "    .dataframe tbody tr th:only-of-type {\n",
       "        vertical-align: middle;\n",
       "    }\n",
       "\n",
       "    .dataframe tbody tr th {\n",
       "        vertical-align: top;\n",
       "    }\n",
       "\n",
       "    .dataframe thead th {\n",
       "        text-align: right;\n",
       "    }\n",
       "</style>\n",
       "<table border=\"1\" class=\"dataframe\">\n",
       "  <thead>\n",
       "    <tr style=\"text-align: right;\">\n",
       "      <th></th>\n",
       "      <th>run</th>\n",
       "      <th>luminosityBlock</th>\n",
       "      <th>event</th>\n",
       "      <th>nested</th>\n",
       "      <th>n_muons</th>\n",
       "    </tr>\n",
       "  </thead>\n",
       "  <tbody>\n",
       "    <tr>\n",
       "      <th>1</th>\n",
       "      <td>1</td>\n",
       "      <td>13</td>\n",
       "      <td>1202</td>\n",
       "      <td>['MET' 'muons' 'gen']</td>\n",
       "      <td>2</td>\n",
       "    </tr>\n",
       "    <tr>\n",
       "      <th>3</th>\n",
       "      <td>1</td>\n",
       "      <td>13</td>\n",
       "      <td>1204</td>\n",
       "      <td>['MET' 'muons' 'gen']</td>\n",
       "      <td>3</td>\n",
       "    </tr>\n",
       "    <tr>\n",
       "      <th>9</th>\n",
       "      <td>1</td>\n",
       "      <td>13</td>\n",
       "      <td>1210</td>\n",
       "      <td>['MET' 'muons' 'gen']</td>\n",
       "      <td>2</td>\n",
       "    </tr>\n",
       "    <tr>\n",
       "      <th>10</th>\n",
       "      <td>1</td>\n",
       "      <td>13</td>\n",
       "      <td>1211</td>\n",
       "      <td>['MET' 'muons' 'gen']</td>\n",
       "      <td>2</td>\n",
       "    </tr>\n",
       "    <tr>\n",
       "      <th>11</th>\n",
       "      <td>1</td>\n",
       "      <td>13</td>\n",
       "      <td>1212</td>\n",
       "      <td>['MET' 'muons' 'gen']</td>\n",
       "      <td>3</td>\n",
       "    </tr>\n",
       "    <tr>\n",
       "      <th>...</th>\n",
       "      <td>...</td>\n",
       "      <td>...</td>\n",
       "      <td>...</td>\n",
       "      <td>...</td>\n",
       "      <td>...</td>\n",
       "    </tr>\n",
       "    <tr>\n",
       "      <th>299677</th>\n",
       "      <td>1</td>\n",
       "      <td>2801</td>\n",
       "      <td>80095</td>\n",
       "      <td>['MET' 'muons' 'gen']</td>\n",
       "      <td>5</td>\n",
       "    </tr>\n",
       "    <tr>\n",
       "      <th>299678</th>\n",
       "      <td>1</td>\n",
       "      <td>2801</td>\n",
       "      <td>80096</td>\n",
       "      <td>['MET' 'muons' 'gen']</td>\n",
       "      <td>2</td>\n",
       "    </tr>\n",
       "    <tr>\n",
       "      <th>299680</th>\n",
       "      <td>1</td>\n",
       "      <td>2801</td>\n",
       "      <td>80098</td>\n",
       "      <td>['MET' 'muons' 'gen']</td>\n",
       "      <td>2</td>\n",
       "    </tr>\n",
       "    <tr>\n",
       "      <th>299681</th>\n",
       "      <td>1</td>\n",
       "      <td>2801</td>\n",
       "      <td>80099</td>\n",
       "      <td>['MET' 'muons' 'gen']</td>\n",
       "      <td>3</td>\n",
       "    </tr>\n",
       "    <tr>\n",
       "      <th>299682</th>\n",
       "      <td>1</td>\n",
       "      <td>2801</td>\n",
       "      <td>80100</td>\n",
       "      <td>['MET' 'muons' 'gen']</td>\n",
       "      <td>4</td>\n",
       "    </tr>\n",
       "  </tbody>\n",
       "</table>\n",
       "<p>144474 rows × 5 columns</p>\n",
       "</div>"
      ],
      "text/plain": [
       "        run  luminosityBlock  event                 nested n_muons\n",
       "1         1               13   1202  ['MET' 'muons' 'gen']       2\n",
       "3         1               13   1204  ['MET' 'muons' 'gen']       3\n",
       "9         1               13   1210  ['MET' 'muons' 'gen']       2\n",
       "10        1               13   1211  ['MET' 'muons' 'gen']       2\n",
       "11        1               13   1212  ['MET' 'muons' 'gen']       3\n",
       "...     ...              ...    ...                    ...     ...\n",
       "299677    1             2801  80095  ['MET' 'muons' 'gen']       5\n",
       "299678    1             2801  80096  ['MET' 'muons' 'gen']       2\n",
       "299680    1             2801  80098  ['MET' 'muons' 'gen']       2\n",
       "299681    1             2801  80099  ['MET' 'muons' 'gen']       3\n",
       "299682    1             2801  80100  ['MET' 'muons' 'gen']       4\n",
       "\n",
       "[144474 rows x 5 columns]"
      ]
     },
     "execution_count": 18,
     "metadata": {},
     "output_type": "execute_result"
    }
   ],
   "source": [
    "df.query(\"n_muons >= 2\")"
   ]
  },
  {
   "cell_type": "code",
   "execution_count": 19,
   "id": "fa29948d-51e1-4e78-940d-5254ac83c0a4",
   "metadata": {},
   "outputs": [],
   "source": [
    "df = df.query(\"n_muons >= 2\")"
   ]
  },
  {
   "cell_type": "code",
   "execution_count": 20,
   "id": "1fda0638",
   "metadata": {},
   "outputs": [
    {
     "data": {
      "text/plain": [
       "luminosityBlock\n",
       "2599.0    -3.14158\n",
       "268.0    -3.141537\n",
       "2062.0   -3.141512\n",
       "1482.0   -3.141317\n",
       "826.0    -3.141196\n",
       "            ...   \n",
       "1758.0   -2.528853\n",
       "154.0    -2.486018\n",
       "961.0    -2.465839\n",
       "1148.0   -2.457783\n",
       "2644.0    -2.28751\n",
       "Length: 1445, dtype: awkward"
      ]
     },
     "execution_count": 20,
     "metadata": {},
     "output_type": "execute_result"
    }
   ],
   "source": [
    "df.nested.ak[\"MET\", \"phi\"].groupby(df.luminosityBlock).min().sort_values()"
   ]
  },
  {
   "cell_type": "code",
   "execution_count": 21,
   "id": "bcd5ce54-4cd6-41a5-97eb-fb821d924f8f",
   "metadata": {},
   "outputs": [],
   "source": [
    "maybe_strange_lumiblock = int(df.nested.ak[\"MET\", \"phi\"].groupby(df.luminosityBlock).min().idxmax())"
   ]
  },
  {
   "cell_type": "code",
   "execution_count": 22,
   "id": "4a31f6d7-5014-4c18-b4ce-abf20c997543",
   "metadata": {},
   "outputs": [
    {
     "data": {
      "text/plain": [
       "2644"
      ]
     },
     "execution_count": 22,
     "metadata": {},
     "output_type": "execute_result"
    }
   ],
   "source": [
    "maybe_strange_lumiblock"
   ]
  },
  {
   "cell_type": "markdown",
   "id": "5c253d82-c1bf-4535-9e61-fa4b8bde799c",
   "metadata": {},
   "source": [
    "We can convert back to an awkward Record array with merge:"
   ]
  },
  {
   "cell_type": "code",
   "execution_count": 23,
   "id": "8cdaf2c9",
   "metadata": {},
   "outputs": [],
   "source": [
    "merged = awkward_pandas.merge(df[[\"run\", \"luminosityBlock\"]])"
   ]
  },
  {
   "cell_type": "code",
   "execution_count": 24,
   "id": "9887f74d-6d65-4193-b341-b7c394d56f2a",
   "metadata": {},
   "outputs": [
    {
     "data": {
      "text/plain": [
       "['run', 'luminosityBlock']"
      ]
     },
     "execution_count": 24,
     "metadata": {},
     "output_type": "execute_result"
    }
   ],
   "source": [
    "ds[[\"run\", \"luminosityBlock\"]].fields"
   ]
  },
  {
   "cell_type": "code",
   "execution_count": 25,
   "id": "26ea475a-64cc-4319-8a79-43a2c8cfffb5",
   "metadata": {},
   "outputs": [
    {
     "data": {
      "text/plain": [
       "['pt', 'phi']"
      ]
     },
     "execution_count": 25,
     "metadata": {},
     "output_type": "execute_result"
    }
   ],
   "source": [
    "ds.MET.fields"
   ]
  },
  {
   "cell_type": "code",
   "execution_count": 26,
   "id": "38596958-71f4-4f18-a64a-e88bb34d224e",
   "metadata": {},
   "outputs": [
    {
     "data": {
      "text/plain": [
       "<pyarrow._parquet.FileMetaData object at 0x1638b68e0>\n",
       "  created_by: parquet-cpp-arrow version 9.0.0\n",
       "  num_columns: 1\n",
       "  num_rows: 41\n",
       "  num_row_groups: 1\n",
       "  format_version: 1.0\n",
       "  serialized_size: 0"
      ]
     },
     "execution_count": 26,
     "metadata": {},
     "output_type": "execute_result"
    }
   ],
   "source": [
    "ak.to_parquet(awkward_pandas.merge(df[df.luminosityBlock == maybe_strange_lumiblock]), \"strange.parquet\")"
   ]
  },
  {
   "cell_type": "code",
   "execution_count": 27,
   "id": "162bb191-ade2-4aa4-b142-aea09e5ebd4d",
   "metadata": {},
   "outputs": [
    {
     "data": {
      "text/plain": [
       "<pyarrow._parquet.FileMetaData object at 0x16382d8f0>\n",
       "  created_by: parquet-cpp-arrow version 9.0.0\n",
       "  num_columns: 15\n",
       "  num_rows: 41\n",
       "  num_row_groups: 1\n",
       "  format_version: 1.0\n",
       "  serialized_size: 0"
      ]
     },
     "execution_count": 27,
     "metadata": {},
     "output_type": "execute_result"
    }
   ],
   "source": [
    "ak.to_parquet(awkward_pandas.merge(df[df.luminosityBlock == maybe_strange_lumiblock]).values._data, \"strange.parquet\")"
   ]
  },
  {
   "cell_type": "code",
   "execution_count": 28,
   "id": "e5e10c85-beaf-4fcb-9fbb-e4db6b4f7130",
   "metadata": {},
   "outputs": [
    {
     "data": {
      "text/plain": [
       "<Array [{run: 1, ...}, ..., {run: 1, ...}] type='41 * {run: int64, luminosi...'>"
      ]
     },
     "execution_count": 28,
     "metadata": {},
     "output_type": "execute_result"
    }
   ],
   "source": [
    "ak.from_parquet(\"strange.parquet\")"
   ]
  },
  {
   "cell_type": "code",
   "execution_count": 29,
   "id": "50458ee6-1ea3-4086-b876-26a3e7bcc62f",
   "metadata": {},
   "outputs": [
    {
     "data": {
      "text/plain": [
       "['run', 'luminosityBlock', 'event', 'MET', 'muons', 'gen']"
      ]
     },
     "execution_count": 29,
     "metadata": {},
     "output_type": "execute_result"
    }
   ],
   "source": [
    "s.ak.fields()"
   ]
  },
  {
   "cell_type": "code",
   "execution_count": null,
   "id": "a970faf2-7676-4c41-8d2a-9d29cfa3d47f",
   "metadata": {},
   "outputs": [],
   "source": []
  }
 ],
 "metadata": {
  "kernelspec": {
   "display_name": "Python 3 (ipykernel)",
   "language": "python",
   "name": "python3"
  },
  "language_info": {
   "codemirror_mode": {
    "name": "ipython",
    "version": 3
   },
   "file_extension": ".py",
   "mimetype": "text/x-python",
   "name": "python",
   "nbconvert_exporter": "python",
   "pygments_lexer": "ipython3",
   "version": "3.10.6"
  }
 },
 "nbformat": 4,
 "nbformat_minor": 5
}
